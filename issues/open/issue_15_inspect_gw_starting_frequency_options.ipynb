{
 "cells": [
  {
   "cell_type": "markdown",
   "metadata": {},
   "source": [
    "# Inspect multipe built-in options for (2,2) starting frequency"
   ]
  },
  {
   "cell_type": "code",
   "execution_count": 2,
   "metadata": {
    "ExecuteTime": {
     "end_time": "2019-02-12T07:10:15.700844Z",
     "start_time": "2019-02-12T07:10:13.190629"
    },
    "collapsed": false,
    "jupyter": {
     "outputs_hidden": false
    }
   },
   "outputs": [
    {
     "name": "stdout",
     "output_type": "stream",
     "text": [
      "(\u001b[0;36mpositive\u001b[0m)>> Applying custom matplotlib settings.\n"
     ]
    }
   ],
   "source": [
    "from nrutils import scsearch,gwylm\n",
    "from matplotlib.pyplot import *\n",
    "from positive import *\n",
    "from numpy import *"
   ]
  },
  {
   "cell_type": "code",
   "execution_count": 3,
   "metadata": {
    "ExecuteTime": {
     "end_time": "2019-02-12T07:10:22.953809Z",
     "start_time": "2019-02-12T07:10:15.707012"
    },
    "collapsed": false,
    "jupyter": {
     "outputs_hidden": false
    }
   },
   "outputs": [
    {
     "name": "stdout",
     "output_type": "stream",
     "text": [
      "(\u001b[0;36mscsearch\u001b[0m)>> Found \u001b[4mkeyword\u001b[0m (=D9_q2.8_a0.0_m160) keyword.\n",
      "(\u001b[0;36mscsearch\u001b[0m)>> Found \u001b[4mverbose\u001b[0m (=True) keyword.\n",
      "(\u001b[0;36mscsearch\u001b[0m)>> List of keywords or string keyword found: \u001b[0;36mALL scentry objects matching will be passed.\u001b[0m To pass ANY entries matching the keywords, input the keywords using an iterable of not of type list.\n",
      "(\u001b[0;36mscsearch\u001b[0m)>> ## Found \u001b[1m1\u001b[0m\u001b[0;35m possibly degenerate\u001b[0m simulations:\n",
      "(\u001b[0;36mscsearch\u001b[0m)>> [0001][\u001b[92mbradwr\u001b[0m] \u001b[0;36mHRq-series\u001b[0m: ns-q2.80\t(\u001b[0;36mD9_q2.8_a0.0_m160\u001b[0m)\n",
      "(\u001b[0;36mscsearch\u001b[0m)>> \n"
     ]
    }
   ],
   "source": [
    "a = scsearch(keyword='D9_q2.8_a0.0_m160',verbose=True)\n",
    "# a = scsearch(keyword='q1a04t30_dPm2_T_96_552',verbose=True)"
   ]
  },
  {
   "cell_type": "code",
   "execution_count": 5,
   "metadata": {
    "ExecuteTime": {
     "end_time": "2019-02-12T07:10:29.698758Z",
     "start_time": "2019-02-12T07:10:22.960532"
    },
    "collapsed": false,
    "jupyter": {
     "outputs_hidden": false
    }
   },
   "outputs": [
    {
     "name": "stdout",
     "output_type": "stream",
     "text": [
      "(\u001b[0;36mgwylm\u001b[0m)>> Found \u001b[4mclean\u001b[0m (=True) keyword.\n",
      "(\u001b[0;36mgwylm\u001b[0m)>> Found \u001b[4mdt\u001b[0m (=0.15) keyword.\n",
      "(\u001b[0;36mgwylm\u001b[0m)>> Found \u001b[4menforce_m_relative_sign_convention\u001b[0m (=True) keyword.\n",
      "(\u001b[0;36mgwylm\u001b[0m)>> Found \u001b[4mlm\u001b[0m (=(2, 2)) keyword.\n",
      "(\u001b[0;36mgwylm\u001b[0m)>> Found \u001b[4mscentry_obj\u001b[0m (=<nrutils.core.nrsc.scentry instance at 0x118cb2f50>) keyword.\n",
      "(\u001b[0;36mgwylm\u001b[0m)>> Found \u001b[4mverbose\u001b[0m (=True) keyword.\n",
      "(\u001b[0;36m__init__\u001b[0m)>> Using default M_RELATIVE_SIGN_CONVENTION of 1\n",
      "(\u001b[0;36mgwylm\u001b[0m)>> The (\u001b[0;35mextraction_parameter\u001b[0m,\u001b[92mlevel\u001b[0m) is (\u001b[0;35m75.0\u001b[0m,\u001b[92mNone\u001b[0m), which differs from the config values of (75,0). You have either manually input the non-config values, or the handler has set them by looking at the contents of the simulation directory. \n",
      "(\u001b[0;36m__make_lmlist__\u001b[0m)>> The following spherical multipoles will be loaded:\u001b[0;36m[(2, 2)]\u001b[0m\n",
      "(\u001b[0;36mload\u001b[0m)>> Using the \u001b[0;36mdefault\u001b[0m extraction_parameter of 75\n",
      "(\u001b[0;36mload\u001b[0m)>> Loading: \u001b[0;36mmp_WeylScal4::Psi4i_l2_m2_r75.00.asc\u001b[0m\n",
      "(\u001b[0;36mload\u001b[0m)>> Imposing a default padding of 3 to the data.\n",
      "(\u001b[0;36mpad_wfarr\u001b[0m)>> The shape was (7994, 3). Now the shape is (7997, 3).\n",
      "\u001b[1m(\u001b[0;33mromline!\u001b[0m)\u001b[0m>> N is \u001b[31m2\u001b[0m, but it must be less than or equal to 3. We have set N=3. This course is often desired in cases where N=2 is naively given.\n",
      "(\u001b[0;36mgwylm\u001b[0m)>> Storing w22 from a \u001b[1m\u001b[0;35mPN estimate\u001b[0m\u001b[0m[see pnw0 in basics.py, and/or arxiv:1310.1528v4]. This will be the frequency parameter used if strain is to be calculated.\n",
      "(\u001b[0;36mcalchlm\u001b[0m)>> \u001b[0;35mw22 = m*w22/2 = 0.057803\u001b[0m\u001b[0;33m (this is the lower frequency used for FFI method [arxiv:1006.1632v3])\u001b[0m\n",
      "(\u001b[0;36mgwylm.calchlm\u001b[0m)>> \u001b[0;33mThe user should note that there is no minus sign used in front of the double time integral for strain (i.e. Eq 4 of arxiv:1006.1632). This differs from Eq 3.4 of arxiv:0707.4654v3. The net effect is a rotation of the overall polarization of pi degrees. The user should also note that there is no minus sign applied to h_cross meaning that the user must be mindful to write h_plus-1j*h_cross when appropriate.\u001b[0m\n",
      "(\u001b[0;36mcalcflm\u001b[0m)>> \u001b[0;35mw0(w22) = 0.057803\u001b[0m\u001b[0;33m (this is the lower frequency used for FFI method [arxiv:1006.1632v3])\u001b[0m\n",
      "\u001b[1m(\u001b[0;33m__enforce_m_relative_phase_orientation__!\u001b[0m)\u001b[0m>> \u001b[0;33m[Verify stage] Re-orienting waveform phase\u001b[0m to be consistent with internal sign convention for Psi4, where sign(dPhi/dt)=1*sign(m)*sign(this.L[-1]). Note that the internal sign convention is defined in ... nrutils/core/__init__.py as \"M_RELATIVE_SIGN_CONVENTION\". This message has appeared becuase the waveform is determined to obey a sign convention: sign(dPhi/dt)=-1*sign(m)*sign(this.L[-1]). Note the appearance of the initial z angular momentum, this.L[-1].\n"
     ]
    }
   ],
   "source": [
    "y = gwylm(a[0],lm=(2,2),verbose=True,clean=True,load_dynamics=False)"
   ]
  },
  {
   "cell_type": "code",
   "execution_count": 6,
   "metadata": {
    "ExecuteTime": {
     "end_time": "2019-02-12T07:11:38.009443Z",
     "start_time": "2019-02-12T07:11:37.936731"
    },
    "collapsed": false,
    "jupyter": {
     "outputs_hidden": false
    }
   },
   "outputs": [
    {
     "name": "stdout",
     "output_type": "stream",
     "text": [
      "From the waveform:\t\t\t0.07304699193601115\n",
      "From PN:\t\t\t\t0.05780345827680445\n",
      "From the raw metadata (e.g. bbh file):\t"
     ]
    },
    {
     "ename": "AttributeError",
     "evalue": "smart_object instance has no attribute 'freq_start_22'",
     "output_type": "error",
     "traceback": [
      "\u001b[0;31m---------------------------------------------------------------------------\u001b[0m",
      "\u001b[0;31mAttributeError\u001b[0m                            Traceback (most recent call last)",
      "\u001b[0;32m<ipython-input-6-154b181cae85>\u001b[0m in \u001b[0;36m<module>\u001b[0;34m()\u001b[0m\n\u001b[1;32m      4\u001b[0m \u001b[0;32mprint\u001b[0m \u001b[0;34m'From PN:\\t\\t\\t\\t'\u001b[0m\u001b[0;34m,\u001b[0m\u001b[0my\u001b[0m\u001b[0;34m.\u001b[0m\u001b[0mwstart_pn\u001b[0m\u001b[0;34m\u001b[0m\u001b[0m\n\u001b[1;32m      5\u001b[0m \u001b[0;31m# From the raw metadata (e.g. bbh file)\u001b[0m\u001b[0;34m\u001b[0m\u001b[0;34m\u001b[0m\u001b[0m\n\u001b[0;32m----> 6\u001b[0;31m \u001b[0;32mprint\u001b[0m \u001b[0;34m'From the raw metadata (e.g. bbh file):\\t'\u001b[0m\u001b[0;34m,\u001b[0m\u001b[0my\u001b[0m\u001b[0;34m.\u001b[0m\u001b[0mraw_metadata\u001b[0m\u001b[0;34m.\u001b[0m\u001b[0mfreq_start_22\u001b[0m\u001b[0;34m\u001b[0m\u001b[0m\n\u001b[0m",
      "\u001b[0;31mAttributeError\u001b[0m: smart_object instance has no attribute 'freq_start_22'"
     ]
    }
   ],
   "source": [
    "# From the waveform\n",
    "print 'From the waveform:\\t\\t\\t',y.wstart\n",
    "# From PN\n",
    "print 'From PN:\\t\\t\\t\\t',y.wstart_pn\n",
    "# From the raw metadata (e.g. bbh file)\n",
    "print 'From the raw metadata (e.g. bbh file):\\t',y.raw_metadata.freq_start_22"
   ]
  },
  {
   "cell_type": "code",
   "execution_count": null,
   "metadata": {
    "ExecuteTime": {
     "end_time": "2019-02-12T07:10:32.367402Z",
     "start_time": "2019-02-12T07:10:29.800633"
    },
    "collapsed": false,
    "jupyter": {
     "outputs_hidden": false
    }
   },
   "outputs": [],
   "source": [
    "y.plot()"
   ]
  },
  {
   "cell_type": "code",
   "execution_count": null,
   "metadata": {
    "ExecuteTime": {
     "end_time": "2019-02-12T07:10:32.441111Z",
     "start_time": "2019-02-12T07:10:32.374088"
    },
    "collapsed": false,
    "jupyter": {
     "outputs_hidden": false
    }
   },
   "outputs": [],
   "source": [
    "print y.preinspiral.left_dphi\n",
    "print y.preinspiral.right_dphi\n",
    "print y.preinspiral.center_dphi"
   ]
  },
  {
   "cell_type": "code",
   "execution_count": null,
   "metadata": {
    "ExecuteTime": {
     "end_time": "2019-02-12T07:12:49.573891Z",
     "start_time": "2019-02-12T07:12:49.197562"
    },
    "collapsed": false,
    "jupyter": {
     "outputs_hidden": false
    }
   },
   "outputs": [],
   "source": [
    "plot( y.t, y[2,2]['psi4'].dphi )\n",
    "# xlim( y.t[y.preinspiral.window_state] )\n",
    "# ylim( y[2,2]['psi4'].dphi[y.preinspiral.window_state] )\n",
    "t1,t2 = y.t[y.preinspiral.window_state]\n",
    "axvline(t1,color='r')\n",
    "axvline(t2,color='r')\n",
    "xlim( lim([t1,t2],dilate=0.1) )\n",
    "ylim([-0.1,0.2])\n",
    "#\n",
    "# axhline( y.preinspiral.left_dphi, color='k' )\n",
    "axhline( y.preinspiral.center_dphi, color='k' )\n",
    "# axhline( y.preinspiral.right_dphi, color='k' )\n",
    "# axhline( mean(y[2,2]['psi4'].dphi[y.preinspiral.left_index:y.preinspiral.right_index]), color='k', ls='--' )\n",
    "# mean(y[2,2]['psi4'].dphi[y.preinspiral.left_index:y.preinspiral.right_index])"
   ]
  },
  {
   "cell_type": "code",
   "execution_count": null,
   "metadata": {
    "collapsed": true,
    "jupyter": {
     "outputs_hidden": true
    }
   },
   "outputs": [],
   "source": []
  }
 ],
 "metadata": {
  "kernelspec": {
   "display_name": "LIGO+Python2.7",
   "language": "python",
   "name": "ligo-py2"
  },
  "language_info": {
   "codemirror_mode": {
    "name": "ipython",
    "version": 2
   },
   "file_extension": ".py",
   "mimetype": "text/x-python",
   "name": "python",
   "nbconvert_exporter": "python",
   "pygments_lexer": "ipython2",
   "version": "2.7.17"
  }
 },
 "nbformat": 4,
 "nbformat_minor": 4
}
